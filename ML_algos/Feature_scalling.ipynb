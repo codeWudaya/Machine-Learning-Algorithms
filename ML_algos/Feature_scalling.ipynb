{
 "cells": [
  {
   "cell_type": "markdown",
   "id": "668648c1",
   "metadata": {},
   "source": [
    "# feature scaling\n",
    "#standardization & Normalization"
   ]
  },
  {
   "cell_type": "code",
   "execution_count": 1,
   "id": "03e8b21c",
   "metadata": {},
   "outputs": [
    {
     "data": {
      "text/plain": [
       "'\\nz = (x - u) / s\\nscore of a sample x\\nstandard deviation s \\nu is the mean of the training samples or zero if with_mean=False\\n'"
      ]
     },
     "execution_count": 1,
     "metadata": {},
     "output_type": "execute_result"
    }
   ],
   "source": [
    "'''\n",
    "class sklearn.preprocessing.StandardScaler(*, copy=True,\n",
    "                                           with_mean=True, with_std=True)\n",
    "'''\n",
    "\n",
    "'''\n",
    "z = (x - u) / s\n",
    "score of a sample x\n",
    "standard deviation s \n",
    "u is the mean of the training samples or zero if with_mean=False\n",
    "'''"
   ]
  },
  {
   "cell_type": "code",
   "execution_count": 2,
   "id": "7667c938",
   "metadata": {},
   "outputs": [
    {
     "data": {
      "text/plain": [
       "'\\nX_std = (X - X.min(axis=0)) / (X.max(axis=0) - X.min(axis=0))\\nX_scaled = X_std * (max - min) + min\\n'"
      ]
     },
     "execution_count": 2,
     "metadata": {},
     "output_type": "execute_result"
    }
   ],
   "source": [
    "'''\n",
    "class sklearn.preprocessing.MinMaxScaler(feature_range=(0, 1),\n",
    "                                         *, copy=True, clip=False)\n",
    "'''\n",
    "\n",
    "####################################################################################################\n",
    "\n",
    "'''\n",
    "X_std = (X - X.min(axis=0)) / (X.max(axis=0) - X.min(axis=0))\n",
    "X_scaled = X_std * (max - min) + min\n",
    "'''"
   ]
  },
  {
   "cell_type": "code",
   "execution_count": 3,
   "id": "fe549bb4",
   "metadata": {},
   "outputs": [],
   "source": [
    "import pandas as pd\n",
    "import seaborn as sns"
   ]
  },
  {
   "cell_type": "code",
   "execution_count": 4,
   "id": "6df55444",
   "metadata": {},
   "outputs": [],
   "source": [
    "from sklearn.preprocessing import StandardScaler\n",
    "from sklearn.preprocessing import MinMaxScaler"
   ]
  },
  {
   "cell_type": "code",
   "execution_count": 5,
   "id": "45e43538",
   "metadata": {},
   "outputs": [
    {
     "data": {
      "text/html": [
       "<div>\n",
       "<style scoped>\n",
       "    .dataframe tbody tr th:only-of-type {\n",
       "        vertical-align: middle;\n",
       "    }\n",
       "\n",
       "    .dataframe tbody tr th {\n",
       "        vertical-align: top;\n",
       "    }\n",
       "\n",
       "    .dataframe thead th {\n",
       "        text-align: right;\n",
       "    }\n",
       "</style>\n",
       "<table border=\"1\" class=\"dataframe\">\n",
       "  <thead>\n",
       "    <tr style=\"text-align: right;\">\n",
       "      <th></th>\n",
       "      <th>PassengerId</th>\n",
       "      <th>Survived</th>\n",
       "      <th>Pclass</th>\n",
       "      <th>Name</th>\n",
       "      <th>Sex</th>\n",
       "      <th>Age</th>\n",
       "      <th>SibSp</th>\n",
       "      <th>Parch</th>\n",
       "      <th>Ticket</th>\n",
       "      <th>Fare</th>\n",
       "      <th>Cabin</th>\n",
       "      <th>Embarked</th>\n",
       "    </tr>\n",
       "  </thead>\n",
       "  <tbody>\n",
       "    <tr>\n",
       "      <th>0</th>\n",
       "      <td>892</td>\n",
       "      <td>0</td>\n",
       "      <td>3</td>\n",
       "      <td>Kelly, Mr. James</td>\n",
       "      <td>male</td>\n",
       "      <td>34.5</td>\n",
       "      <td>0</td>\n",
       "      <td>0</td>\n",
       "      <td>330911</td>\n",
       "      <td>7.8292</td>\n",
       "      <td>NaN</td>\n",
       "      <td>Q</td>\n",
       "    </tr>\n",
       "    <tr>\n",
       "      <th>1</th>\n",
       "      <td>893</td>\n",
       "      <td>1</td>\n",
       "      <td>3</td>\n",
       "      <td>Wilkes, Mrs. James (Ellen Needs)</td>\n",
       "      <td>female</td>\n",
       "      <td>47.0</td>\n",
       "      <td>1</td>\n",
       "      <td>0</td>\n",
       "      <td>363272</td>\n",
       "      <td>7.0000</td>\n",
       "      <td>NaN</td>\n",
       "      <td>S</td>\n",
       "    </tr>\n",
       "  </tbody>\n",
       "</table>\n",
       "</div>"
      ],
      "text/plain": [
       "   PassengerId  Survived  Pclass                              Name     Sex  \\\n",
       "0          892         0       3                  Kelly, Mr. James    male   \n",
       "1          893         1       3  Wilkes, Mrs. James (Ellen Needs)  female   \n",
       "\n",
       "    Age  SibSp  Parch  Ticket    Fare Cabin Embarked  \n",
       "0  34.5      0      0  330911  7.8292   NaN        Q  \n",
       "1  47.0      1      0  363272  7.0000   NaN        S  "
      ]
     },
     "execution_count": 5,
     "metadata": {},
     "output_type": "execute_result"
    }
   ],
   "source": [
    "df =pd.read_csv(r\"C:\\Users\\udaya\\Downloads\\archive (3)\\tested.csv\")\n",
    "df.head(2)"
   ]
  },
  {
   "cell_type": "code",
   "execution_count": 6,
   "id": "dfece7d6",
   "metadata": {},
   "outputs": [
    {
     "data": {
      "text/html": [
       "<div>\n",
       "<style scoped>\n",
       "    .dataframe tbody tr th:only-of-type {\n",
       "        vertical-align: middle;\n",
       "    }\n",
       "\n",
       "    .dataframe tbody tr th {\n",
       "        vertical-align: top;\n",
       "    }\n",
       "\n",
       "    .dataframe thead th {\n",
       "        text-align: right;\n",
       "    }\n",
       "</style>\n",
       "<table border=\"1\" class=\"dataframe\">\n",
       "  <thead>\n",
       "    <tr style=\"text-align: right;\">\n",
       "      <th></th>\n",
       "      <th>Survived</th>\n",
       "      <th>Pclass</th>\n",
       "      <th>Age</th>\n",
       "      <th>Parch</th>\n",
       "    </tr>\n",
       "  </thead>\n",
       "  <tbody>\n",
       "    <tr>\n",
       "      <th>0</th>\n",
       "      <td>0</td>\n",
       "      <td>3</td>\n",
       "      <td>34.5</td>\n",
       "      <td>0</td>\n",
       "    </tr>\n",
       "    <tr>\n",
       "      <th>1</th>\n",
       "      <td>1</td>\n",
       "      <td>3</td>\n",
       "      <td>47.0</td>\n",
       "      <td>0</td>\n",
       "    </tr>\n",
       "    <tr>\n",
       "      <th>2</th>\n",
       "      <td>0</td>\n",
       "      <td>2</td>\n",
       "      <td>62.0</td>\n",
       "      <td>0</td>\n",
       "    </tr>\n",
       "    <tr>\n",
       "      <th>3</th>\n",
       "      <td>0</td>\n",
       "      <td>3</td>\n",
       "      <td>27.0</td>\n",
       "      <td>0</td>\n",
       "    </tr>\n",
       "    <tr>\n",
       "      <th>4</th>\n",
       "      <td>1</td>\n",
       "      <td>3</td>\n",
       "      <td>22.0</td>\n",
       "      <td>1</td>\n",
       "    </tr>\n",
       "  </tbody>\n",
       "</table>\n",
       "</div>"
      ],
      "text/plain": [
       "   Survived  Pclass   Age  Parch\n",
       "0         0       3  34.5      0\n",
       "1         1       3  47.0      0\n",
       "2         0       2  62.0      0\n",
       "3         0       3  27.0      0\n",
       "4         1       3  22.0      1"
      ]
     },
     "execution_count": 6,
     "metadata": {},
     "output_type": "execute_result"
    }
   ],
   "source": [
    "df2=df[['Survived','Pclass','Age','Parch']]\n",
    "df2.head()"
   ]
  },
  {
   "cell_type": "code",
   "execution_count": 7,
   "id": "62e445c1",
   "metadata": {},
   "outputs": [],
   "source": [
    "df3=df2.fillna(df2.mean())"
   ]
  },
  {
   "cell_type": "code",
   "execution_count": 8,
   "id": "692b90a4",
   "metadata": {},
   "outputs": [
    {
     "name": "stdout",
     "output_type": "stream",
     "text": [
      "shape of x (418, 3)\n",
      "shape od y (418,)\n"
     ]
    }
   ],
   "source": [
    "x=df3.drop('Survived',axis=1)\n",
    "y=df3[\"Survived\"]\n",
    "print(\"shape of x\",x.shape)\n",
    "print(\"shape od y\",y.shape)"
   ]
  },
  {
   "cell_type": "code",
   "execution_count": 10,
   "id": "1a9700d3",
   "metadata": {},
   "outputs": [],
   "source": [
    "from sklearn.model_selection import train_test_split"
   ]
  },
  {
   "cell_type": "code",
   "execution_count": 11,
   "id": "bd22d896",
   "metadata": {},
   "outputs": [],
   "source": [
    " x_tr,x_ts,y_tr,y_ts=train_test_split(x ,y,test_size=0.2,random_state=51)"
   ]
  },
  {
   "cell_type": "code",
   "execution_count": 14,
   "id": "0ee4eb08",
   "metadata": {},
   "outputs": [
    {
     "name": "stdout",
     "output_type": "stream",
     "text": [
      "shape of x_train (334, 3)\n",
      "shape of x_test (84, 3)\n",
      "shape of y_train (334,)\n",
      "shape of y_test (84,)\n"
     ]
    }
   ],
   "source": [
    "print(\"shape of x_train\",x_tr.shape)\n",
    "print(\"shape of x_test\",x_ts.shape)\n",
    "print(\"shape of y_train\",y_tr.shape)\n",
    "print(\"shape of y_test\",y_ts.shape)"
   ]
  },
  {
   "cell_type": "code",
   "execution_count": 16,
   "id": "5e217d92",
   "metadata": {},
   "outputs": [
    {
     "data": {
      "text/plain": [
       "StandardScaler()"
      ]
     },
     "execution_count": 16,
     "metadata": {},
     "output_type": "execute_result"
    }
   ],
   "source": [
    "sc=StandardScaler()\n",
    "sc.fit(x_tr)\n",
    "\n",
    "#fit standard deviation and mean"
   ]
  },
  {
   "cell_type": "code",
   "execution_count": 18,
   "id": "846a80c4",
   "metadata": {},
   "outputs": [
    {
     "data": {
      "text/plain": [
       "array([ 2.26047904, 30.53195116,  0.44311377])"
      ]
     },
     "execution_count": 18,
     "metadata": {},
     "output_type": "execute_result"
    }
   ],
   "source": [
    "sc.mean_"
   ]
  },
  {
   "cell_type": "code",
   "execution_count": 19,
   "id": "19f6c734",
   "metadata": {},
   "outputs": [
    {
     "data": {
      "text/plain": [
       "array([ 0.85180035, 12.85751854,  1.0616042 ])"
      ]
     },
     "execution_count": 19,
     "metadata": {},
     "output_type": "execute_result"
    }
   ],
   "source": [
    "#std deviation\n",
    "sc.scale_"
   ]
  },
  {
   "cell_type": "code",
   "execution_count": 22,
   "id": "5fb0ce7d",
   "metadata": {},
   "outputs": [
    {
     "data": {
      "text/html": [
       "<div>\n",
       "<style scoped>\n",
       "    .dataframe tbody tr th:only-of-type {\n",
       "        vertical-align: middle;\n",
       "    }\n",
       "\n",
       "    .dataframe tbody tr th {\n",
       "        vertical-align: top;\n",
       "    }\n",
       "\n",
       "    .dataframe thead th {\n",
       "        text-align: right;\n",
       "    }\n",
       "</style>\n",
       "<table border=\"1\" class=\"dataframe\">\n",
       "  <thead>\n",
       "    <tr style=\"text-align: right;\">\n",
       "      <th></th>\n",
       "      <th>Pclass</th>\n",
       "      <th>Age</th>\n",
       "      <th>Parch</th>\n",
       "    </tr>\n",
       "  </thead>\n",
       "  <tbody>\n",
       "    <tr>\n",
       "      <th>count</th>\n",
       "      <td>334.000000</td>\n",
       "      <td>334.000000</td>\n",
       "      <td>334.000000</td>\n",
       "    </tr>\n",
       "    <tr>\n",
       "      <th>mean</th>\n",
       "      <td>2.260479</td>\n",
       "      <td>30.531951</td>\n",
       "      <td>0.443114</td>\n",
       "    </tr>\n",
       "    <tr>\n",
       "      <th>std</th>\n",
       "      <td>0.853078</td>\n",
       "      <td>12.876810</td>\n",
       "      <td>1.063197</td>\n",
       "    </tr>\n",
       "    <tr>\n",
       "      <th>min</th>\n",
       "      <td>1.000000</td>\n",
       "      <td>0.170000</td>\n",
       "      <td>0.000000</td>\n",
       "    </tr>\n",
       "    <tr>\n",
       "      <th>25%</th>\n",
       "      <td>1.000000</td>\n",
       "      <td>23.000000</td>\n",
       "      <td>0.000000</td>\n",
       "    </tr>\n",
       "    <tr>\n",
       "      <th>50%</th>\n",
       "      <td>3.000000</td>\n",
       "      <td>30.272590</td>\n",
       "      <td>0.000000</td>\n",
       "    </tr>\n",
       "    <tr>\n",
       "      <th>75%</th>\n",
       "      <td>3.000000</td>\n",
       "      <td>36.000000</td>\n",
       "      <td>0.000000</td>\n",
       "    </tr>\n",
       "    <tr>\n",
       "      <th>max</th>\n",
       "      <td>3.000000</td>\n",
       "      <td>76.000000</td>\n",
       "      <td>9.000000</td>\n",
       "    </tr>\n",
       "  </tbody>\n",
       "</table>\n",
       "</div>"
      ],
      "text/plain": [
       "           Pclass         Age       Parch\n",
       "count  334.000000  334.000000  334.000000\n",
       "mean     2.260479   30.531951    0.443114\n",
       "std      0.853078   12.876810    1.063197\n",
       "min      1.000000    0.170000    0.000000\n",
       "25%      1.000000   23.000000    0.000000\n",
       "50%      3.000000   30.272590    0.000000\n",
       "75%      3.000000   36.000000    0.000000\n",
       "max      3.000000   76.000000    9.000000"
      ]
     },
     "execution_count": 22,
     "metadata": {},
     "output_type": "execute_result"
    }
   ],
   "source": [
    "x_tr.describe()"
   ]
  },
  {
   "cell_type": "code",
   "execution_count": 25,
   "id": "911a9c80",
   "metadata": {},
   "outputs": [],
   "source": [
    "x_tr_sc=sc.transform(x_tr)\n",
    "x_ts_sc=sc.transform(x_ts)"
   ]
  },
  {
   "cell_type": "code",
   "execution_count": 26,
   "id": "efe1dcf9",
   "metadata": {},
   "outputs": [
    {
     "data": {
      "text/plain": [
       "array([[-1.63453003, -2.38995377, -0.81057888],\n",
       "       [-1.63453003, -2.37620681, -0.81057888],\n",
       "       [-4.39100697, -2.28712028, -0.81057888],\n",
       "       ...,\n",
       "       [-1.63453003, -2.45044406, -0.81057888],\n",
       "       [-4.39100697, -2.23872804, -0.81057888],\n",
       "       [-1.63453003, -2.40810086, -0.81057888]])"
      ]
     },
     "execution_count": 26,
     "metadata": {},
     "output_type": "execute_result"
    }
   ],
   "source": [
    "x_tr_sc"
   ]
  },
  {
   "cell_type": "code",
   "execution_count": 27,
   "id": "b23567ae",
   "metadata": {},
   "outputs": [
    {
     "data": {
      "text/plain": [
       "array([[-4.39100697, -2.32341445, -0.81057888],\n",
       "       [-3.0127685 , -2.40205183, -0.81057888],\n",
       "       [-3.0127685 , -2.40810086, -0.81057888],\n",
       "       [-3.0127685 , -2.48673824,  0.07672983],\n",
       "       [-4.39100697, -2.34156154, -0.81057888],\n",
       "       [-1.63453003, -2.43834601, -0.81057888],\n",
       "       [-3.0127685 , -2.40205183, -0.81057888],\n",
       "       [-1.63453003, -2.37620681, -0.81057888],\n",
       "       [-1.63453003, -2.37620681, -0.81057888],\n",
       "       [-1.63453003, -2.31131639, -0.81057888],\n",
       "       [-1.63453003, -2.40205183, -0.81057888],\n",
       "       [-1.63453003, -2.37620681, -0.81057888],\n",
       "       [-1.63453003, -2.34761057, -0.81057888],\n",
       "       [-1.63453003, -2.44439503, -0.81057888],\n",
       "       [-1.63453003, -2.3960028 , -0.81057888],\n",
       "       [-1.63453003, -2.54722853,  0.07672983],\n",
       "       [-3.0127685 , -2.3960028 , -0.81057888],\n",
       "       [-3.0127685 , -2.36575766, -0.81057888],\n",
       "       [-3.0127685 , -2.44439503, -0.81057888],\n",
       "       [-1.63453003, -2.37620681, -0.81057888],\n",
       "       [-1.63453003, -2.45649309, -0.81057888],\n",
       "       [-3.0127685 , -2.40205183,  0.07672983],\n",
       "       [-3.0127685 , -2.41414989, -0.81057888],\n",
       "       [-4.39100697, -2.23267901, -0.81057888],\n",
       "       [-1.63453003, -2.47161567,  0.96403854],\n",
       "       [-1.63453003, -2.36575766, -0.81057888],\n",
       "       [-3.0127685 , -2.42624795, -0.81057888],\n",
       "       [-1.63453003, -2.37620681, -0.81057888],\n",
       "       [-3.0127685 , -2.45044406, -0.81057888],\n",
       "       [-3.0127685 , -2.2931693 , -0.81057888],\n",
       "       [-3.0127685 , -2.43229698, -0.81057888],\n",
       "       [-4.39100697, -2.27502222, -0.81057888],\n",
       "       [-1.63453003, -2.38390474, -0.81057888],\n",
       "       [-1.63453003, -2.45044406, -0.81057888],\n",
       "       [-4.39100697, -2.20243387, -0.81057888],\n",
       "       [-1.63453003, -2.37620681, -0.81057888],\n",
       "       [-1.63453003, -2.37620681, -0.81057888],\n",
       "       [-1.63453003, -2.43834601, -0.81057888],\n",
       "       [-4.39100697, -2.33551251, -0.81057888],\n",
       "       [-4.39100697, -2.17218872,  0.07672983],\n",
       "       [-4.39100697, -2.38390474, -0.81057888],\n",
       "       [-1.63453003, -2.37620681, -0.81057888],\n",
       "       [-1.63453003, -2.36575766, -0.81057888],\n",
       "       [-4.39100697, -2.27502222, -0.81057888],\n",
       "       [-1.63453003, -2.42624795, -0.81057888],\n",
       "       [-3.0127685 , -2.36575766, -0.81057888],\n",
       "       [-1.63453003, -2.46254212, -0.81057888],\n",
       "       [-3.0127685 , -2.43229698, -0.81057888],\n",
       "       [-3.0127685 , -2.38390474, -0.81057888],\n",
       "       [-1.63453003, -2.43229698, -0.81057888],\n",
       "       [-1.63453003, -2.3960028 , -0.81057888],\n",
       "       [-4.39100697, -2.21453192,  0.07672983],\n",
       "       [-3.0127685 , -2.25687513, -0.81057888],\n",
       "       [-1.63453003, -2.43229698, -0.81057888],\n",
       "       [-1.63453003, -2.34156154,  0.96403854],\n",
       "       [-1.63453003, -2.42019892, -0.81057888],\n",
       "       [-3.0127685 , -2.40810086, -0.81057888],\n",
       "       [-4.39100697, -2.21453192, -0.81057888],\n",
       "       [-1.63453003, -2.42624795, -0.81057888],\n",
       "       [-4.39100697, -2.37180668, -0.81057888],\n",
       "       [-4.39100697, -2.37180668, -0.81057888],\n",
       "       [-3.0127685 , -2.41414989, -0.81057888],\n",
       "       [-1.63453003, -2.37620681, -0.81057888],\n",
       "       [-3.0127685 , -2.30526736,  0.07672983],\n",
       "       [-1.63453003, -2.44741955, -0.81057888],\n",
       "       [-1.63453003, -2.37620681, -0.81057888],\n",
       "       [-3.0127685 , -2.3960028 , -0.81057888],\n",
       "       [-1.63453003, -2.37620681, -0.81057888],\n",
       "       [-3.0127685 , -2.38995377, -0.81057888],\n",
       "       [-1.63453003, -2.37620681, -0.81057888],\n",
       "       [-4.39100697, -2.52303241,  0.96403854],\n",
       "       [-3.0127685 , -2.40205183, -0.81057888],\n",
       "       [-4.39100697, -2.3960028 ,  0.07672983],\n",
       "       [-4.39100697, -2.35970863, -0.81057888],\n",
       "       [-4.39100697, -2.29921833, -0.81057888],\n",
       "       [-1.63453003, -2.43229698, -0.81057888],\n",
       "       [-4.39100697, -2.43229698, -0.81057888],\n",
       "       [-1.63453003, -2.37180668, -0.81057888],\n",
       "       [-1.63453003, -2.34761057, -0.81057888],\n",
       "       [-1.63453003, -2.41414989, -0.81057888],\n",
       "       [-3.0127685 , -2.26292416,  0.96403854],\n",
       "       [-1.63453003, -2.43834601, -0.81057888],\n",
       "       [-1.63453003, -2.3960028 , -0.81057888],\n",
       "       [-1.63453003, -2.5411795 ,  0.07672983]])"
      ]
     },
     "execution_count": 27,
     "metadata": {},
     "output_type": "execute_result"
    }
   ],
   "source": [
    "x_ts_sc"
   ]
  },
  {
   "cell_type": "code",
   "execution_count": 29,
   "id": "8046de94",
   "metadata": {},
   "outputs": [],
   "source": [
    "x_tr_sc=pd.DataFrame(x_tr_sc,columns=['Pclass','Age','Parch'])\n",
    "x_ts_sc=pd.DataFrame(x_ts_sc,columns=['Pclass','Age','Parch'])"
   ]
  },
  {
   "cell_type": "code",
   "execution_count": 30,
   "id": "6fef58d3",
   "metadata": {},
   "outputs": [
    {
     "data": {
      "text/html": [
       "<div>\n",
       "<style scoped>\n",
       "    .dataframe tbody tr th:only-of-type {\n",
       "        vertical-align: middle;\n",
       "    }\n",
       "\n",
       "    .dataframe tbody tr th {\n",
       "        vertical-align: top;\n",
       "    }\n",
       "\n",
       "    .dataframe thead th {\n",
       "        text-align: right;\n",
       "    }\n",
       "</style>\n",
       "<table border=\"1\" class=\"dataframe\">\n",
       "  <thead>\n",
       "    <tr style=\"text-align: right;\">\n",
       "      <th></th>\n",
       "      <th>Pclass</th>\n",
       "      <th>Age</th>\n",
       "      <th>Parch</th>\n",
       "    </tr>\n",
       "  </thead>\n",
       "  <tbody>\n",
       "    <tr>\n",
       "      <th>0</th>\n",
       "      <td>-1.634530</td>\n",
       "      <td>-2.389954</td>\n",
       "      <td>-0.810579</td>\n",
       "    </tr>\n",
       "    <tr>\n",
       "      <th>1</th>\n",
       "      <td>-1.634530</td>\n",
       "      <td>-2.376207</td>\n",
       "      <td>-0.810579</td>\n",
       "    </tr>\n",
       "    <tr>\n",
       "      <th>2</th>\n",
       "      <td>-4.391007</td>\n",
       "      <td>-2.287120</td>\n",
       "      <td>-0.810579</td>\n",
       "    </tr>\n",
       "    <tr>\n",
       "      <th>3</th>\n",
       "      <td>-1.634530</td>\n",
       "      <td>-2.376207</td>\n",
       "      <td>7.175199</td>\n",
       "    </tr>\n",
       "    <tr>\n",
       "      <th>4</th>\n",
       "      <td>-4.391007</td>\n",
       "      <td>-2.341562</td>\n",
       "      <td>-0.810579</td>\n",
       "    </tr>\n",
       "  </tbody>\n",
       "</table>\n",
       "</div>"
      ],
      "text/plain": [
       "     Pclass       Age     Parch\n",
       "0 -1.634530 -2.389954 -0.810579\n",
       "1 -1.634530 -2.376207 -0.810579\n",
       "2 -4.391007 -2.287120 -0.810579\n",
       "3 -1.634530 -2.376207  7.175199\n",
       "4 -4.391007 -2.341562 -0.810579"
      ]
     },
     "execution_count": 30,
     "metadata": {},
     "output_type": "execute_result"
    }
   ],
   "source": [
    "x_tr_sc.head()"
   ]
  },
  {
   "cell_type": "code",
   "execution_count": 32,
   "id": "9e98e2d3",
   "metadata": {},
   "outputs": [
    {
     "data": {
      "text/html": [
       "<div>\n",
       "<style scoped>\n",
       "    .dataframe tbody tr th:only-of-type {\n",
       "        vertical-align: middle;\n",
       "    }\n",
       "\n",
       "    .dataframe tbody tr th {\n",
       "        vertical-align: top;\n",
       "    }\n",
       "\n",
       "    .dataframe thead th {\n",
       "        text-align: right;\n",
       "    }\n",
       "</style>\n",
       "<table border=\"1\" class=\"dataframe\">\n",
       "  <thead>\n",
       "    <tr style=\"text-align: right;\">\n",
       "      <th></th>\n",
       "      <th>Pclass</th>\n",
       "      <th>Age</th>\n",
       "      <th>Parch</th>\n",
       "    </tr>\n",
       "  </thead>\n",
       "  <tbody>\n",
       "    <tr>\n",
       "      <th>count</th>\n",
       "      <td>334.000000</td>\n",
       "      <td>334.000000</td>\n",
       "      <td>334.000000</td>\n",
       "    </tr>\n",
       "    <tr>\n",
       "      <th>mean</th>\n",
       "      <td>-2.653766</td>\n",
       "      <td>-2.374638</td>\n",
       "      <td>-0.417400</td>\n",
       "    </tr>\n",
       "    <tr>\n",
       "      <th>std</th>\n",
       "      <td>1.175745</td>\n",
       "      <td>0.077892</td>\n",
       "      <td>0.943384</td>\n",
       "    </tr>\n",
       "    <tr>\n",
       "      <th>min</th>\n",
       "      <td>-4.391007</td>\n",
       "      <td>-2.558298</td>\n",
       "      <td>-0.810579</td>\n",
       "    </tr>\n",
       "    <tr>\n",
       "      <th>25%</th>\n",
       "      <td>-4.391007</td>\n",
       "      <td>-2.420199</td>\n",
       "      <td>-0.810579</td>\n",
       "    </tr>\n",
       "    <tr>\n",
       "      <th>50%</th>\n",
       "      <td>-1.634530</td>\n",
       "      <td>-2.376207</td>\n",
       "      <td>-0.810579</td>\n",
       "    </tr>\n",
       "    <tr>\n",
       "      <th>75%</th>\n",
       "      <td>-1.634530</td>\n",
       "      <td>-2.341562</td>\n",
       "      <td>-0.810579</td>\n",
       "    </tr>\n",
       "    <tr>\n",
       "      <th>max</th>\n",
       "      <td>-1.634530</td>\n",
       "      <td>-2.099600</td>\n",
       "      <td>7.175199</td>\n",
       "    </tr>\n",
       "  </tbody>\n",
       "</table>\n",
       "</div>"
      ],
      "text/plain": [
       "           Pclass         Age       Parch\n",
       "count  334.000000  334.000000  334.000000\n",
       "mean    -2.653766   -2.374638   -0.417400\n",
       "std      1.175745    0.077892    0.943384\n",
       "min     -4.391007   -2.558298   -0.810579\n",
       "25%     -4.391007   -2.420199   -0.810579\n",
       "50%     -1.634530   -2.376207   -0.810579\n",
       "75%     -1.634530   -2.341562   -0.810579\n",
       "max     -1.634530   -2.099600    7.175199"
      ]
     },
     "execution_count": 32,
     "metadata": {},
     "output_type": "execute_result"
    }
   ],
   "source": [
    "x_tr_sc.describe()"
   ]
  },
  {
   "cell_type": "code",
   "execution_count": 33,
   "id": "a535a21b",
   "metadata": {},
   "outputs": [
    {
     "data": {
      "text/html": [
       "<div>\n",
       "<style scoped>\n",
       "    .dataframe tbody tr th:only-of-type {\n",
       "        vertical-align: middle;\n",
       "    }\n",
       "\n",
       "    .dataframe tbody tr th {\n",
       "        vertical-align: top;\n",
       "    }\n",
       "\n",
       "    .dataframe thead th {\n",
       "        text-align: right;\n",
       "    }\n",
       "</style>\n",
       "<table border=\"1\" class=\"dataframe\">\n",
       "  <thead>\n",
       "    <tr style=\"text-align: right;\">\n",
       "      <th></th>\n",
       "      <th>Pclass</th>\n",
       "      <th>Age</th>\n",
       "      <th>Parch</th>\n",
       "    </tr>\n",
       "  </thead>\n",
       "  <tbody>\n",
       "    <tr>\n",
       "      <th>count</th>\n",
       "      <td>334.00</td>\n",
       "      <td>334.00</td>\n",
       "      <td>334.00</td>\n",
       "    </tr>\n",
       "    <tr>\n",
       "      <th>mean</th>\n",
       "      <td>-2.65</td>\n",
       "      <td>-2.37</td>\n",
       "      <td>-0.42</td>\n",
       "    </tr>\n",
       "    <tr>\n",
       "      <th>std</th>\n",
       "      <td>1.18</td>\n",
       "      <td>0.08</td>\n",
       "      <td>0.94</td>\n",
       "    </tr>\n",
       "    <tr>\n",
       "      <th>min</th>\n",
       "      <td>-4.39</td>\n",
       "      <td>-2.56</td>\n",
       "      <td>-0.81</td>\n",
       "    </tr>\n",
       "    <tr>\n",
       "      <th>25%</th>\n",
       "      <td>-4.39</td>\n",
       "      <td>-2.42</td>\n",
       "      <td>-0.81</td>\n",
       "    </tr>\n",
       "    <tr>\n",
       "      <th>50%</th>\n",
       "      <td>-1.63</td>\n",
       "      <td>-2.38</td>\n",
       "      <td>-0.81</td>\n",
       "    </tr>\n",
       "    <tr>\n",
       "      <th>75%</th>\n",
       "      <td>-1.63</td>\n",
       "      <td>-2.34</td>\n",
       "      <td>-0.81</td>\n",
       "    </tr>\n",
       "    <tr>\n",
       "      <th>max</th>\n",
       "      <td>-1.63</td>\n",
       "      <td>-2.10</td>\n",
       "      <td>7.18</td>\n",
       "    </tr>\n",
       "  </tbody>\n",
       "</table>\n",
       "</div>"
      ],
      "text/plain": [
       "       Pclass     Age   Parch\n",
       "count  334.00  334.00  334.00\n",
       "mean    -2.65   -2.37   -0.42\n",
       "std      1.18    0.08    0.94\n",
       "min     -4.39   -2.56   -0.81\n",
       "25%     -4.39   -2.42   -0.81\n",
       "50%     -1.63   -2.38   -0.81\n",
       "75%     -1.63   -2.34   -0.81\n",
       "max     -1.63   -2.10    7.18"
      ]
     },
     "execution_count": 33,
     "metadata": {},
     "output_type": "execute_result"
    }
   ],
   "source": [
    "x_tr_sc.describe().round(2)"
   ]
  },
  {
   "cell_type": "code",
   "execution_count": 34,
   "id": "5c86298b",
   "metadata": {},
   "outputs": [
    {
     "data": {
      "text/plain": [
       "MinMaxScaler()"
      ]
     },
     "execution_count": 34,
     "metadata": {},
     "output_type": "execute_result"
    }
   ],
   "source": [
    "mmc=MinMaxScaler()\n",
    "mmc.fit(x_tr)"
   ]
  },
  {
   "cell_type": "code",
   "execution_count": 35,
   "id": "091b6868",
   "metadata": {},
   "outputs": [],
   "source": [
    "x_tr_mmc=mmc.transform(x_tr)\n",
    "x_ts_mmc=mmc.transform(x_ts)"
   ]
  },
  {
   "cell_type": "code",
   "execution_count": 36,
   "id": "18e705d1",
   "metadata": {},
   "outputs": [
    {
     "data": {
      "text/plain": [
       "array([[1.        , 0.36700514, 0.        ],\n",
       "       [1.        , 0.39697468, 0.        ],\n",
       "       [0.        , 0.59119082, 0.        ],\n",
       "       ...,\n",
       "       [1.        , 0.23513121, 0.        ],\n",
       "       [0.        , 0.69668996, 0.        ],\n",
       "       [1.        , 0.32744296, 0.        ]])"
      ]
     },
     "execution_count": 36,
     "metadata": {},
     "output_type": "execute_result"
    }
   ],
   "source": [
    "#0-1 \n",
    "\n",
    "x_tr_mmc"
   ]
  },
  {
   "cell_type": "code",
   "execution_count": 37,
   "id": "07176fab",
   "metadata": {},
   "outputs": [],
   "source": [
    "x_tr_mmc=pd.DataFrame(x_tr_mmc,columns=['Pclass','Age','Parch'])\n",
    "x_ts_mmc=pd.DataFrame(x_ts_mmc,columns=['Pclass','Age','Parch'])"
   ]
  },
  {
   "cell_type": "code",
   "execution_count": 38,
   "id": "a1cf4d6c",
   "metadata": {},
   "outputs": [
    {
     "data": {
      "text/html": [
       "<div>\n",
       "<style scoped>\n",
       "    .dataframe tbody tr th:only-of-type {\n",
       "        vertical-align: middle;\n",
       "    }\n",
       "\n",
       "    .dataframe tbody tr th {\n",
       "        vertical-align: top;\n",
       "    }\n",
       "\n",
       "    .dataframe thead th {\n",
       "        text-align: right;\n",
       "    }\n",
       "</style>\n",
       "<table border=\"1\" class=\"dataframe\">\n",
       "  <thead>\n",
       "    <tr style=\"text-align: right;\">\n",
       "      <th></th>\n",
       "      <th>Pclass</th>\n",
       "      <th>Age</th>\n",
       "      <th>Parch</th>\n",
       "    </tr>\n",
       "  </thead>\n",
       "  <tbody>\n",
       "    <tr>\n",
       "      <th>count</th>\n",
       "      <td>334.00</td>\n",
       "      <td>334.00</td>\n",
       "      <td>334.00</td>\n",
       "    </tr>\n",
       "    <tr>\n",
       "      <th>mean</th>\n",
       "      <td>0.63</td>\n",
       "      <td>0.40</td>\n",
       "      <td>0.05</td>\n",
       "    </tr>\n",
       "    <tr>\n",
       "      <th>std</th>\n",
       "      <td>0.43</td>\n",
       "      <td>0.17</td>\n",
       "      <td>0.12</td>\n",
       "    </tr>\n",
       "    <tr>\n",
       "      <th>min</th>\n",
       "      <td>0.00</td>\n",
       "      <td>0.00</td>\n",
       "      <td>0.00</td>\n",
       "    </tr>\n",
       "    <tr>\n",
       "      <th>25%</th>\n",
       "      <td>0.00</td>\n",
       "      <td>0.30</td>\n",
       "      <td>0.00</td>\n",
       "    </tr>\n",
       "    <tr>\n",
       "      <th>50%</th>\n",
       "      <td>1.00</td>\n",
       "      <td>0.40</td>\n",
       "      <td>0.00</td>\n",
       "    </tr>\n",
       "    <tr>\n",
       "      <th>75%</th>\n",
       "      <td>1.00</td>\n",
       "      <td>0.47</td>\n",
       "      <td>0.00</td>\n",
       "    </tr>\n",
       "    <tr>\n",
       "      <th>max</th>\n",
       "      <td>1.00</td>\n",
       "      <td>1.00</td>\n",
       "      <td>1.00</td>\n",
       "    </tr>\n",
       "  </tbody>\n",
       "</table>\n",
       "</div>"
      ],
      "text/plain": [
       "       Pclass     Age   Parch\n",
       "count  334.00  334.00  334.00\n",
       "mean     0.63    0.40    0.05\n",
       "std      0.43    0.17    0.12\n",
       "min      0.00    0.00    0.00\n",
       "25%      0.00    0.30    0.00\n",
       "50%      1.00    0.40    0.00\n",
       "75%      1.00    0.47    0.00\n",
       "max      1.00    1.00    1.00"
      ]
     },
     "execution_count": 38,
     "metadata": {},
     "output_type": "execute_result"
    }
   ],
   "source": [
    "x_tr_mmc.describe().round(2)\n",
    "\n",
    "#max 1\n",
    "#min 0\n",
    "#scale 0-1"
   ]
  },
  {
   "cell_type": "code",
   "execution_count": 48,
   "id": "83f54f1c",
   "metadata": {},
   "outputs": [
    {
     "data": {
      "text/plain": [
       "<seaborn.axisgrid.PairGrid at 0x21ba9f0fee0>"
      ]
     },
     "execution_count": 48,
     "metadata": {},
     "output_type": "execute_result"
    },
    {
     "data": {
      "image/png": "[encoded data removed]",
      "text/plain": [
       "<Figure size 540x540 with 12 Axes>"
      ]
     },
     "metadata": {
      "needs_background": "light"
     },
     "output_type": "display_data"
    }
   ],
   "source": [
    "sns.pairplot(x_tr_sc)"
   ]
  },
  {
   "cell_type": "code",
   "execution_count": 50,
   "id": "b6e5e0e9",
   "metadata": {},
   "outputs": [
    {
     "data": {
      "text/plain": [
       "<seaborn.axisgrid.PairGrid at 0x21baac98820>"
      ]
     },
     "execution_count": 50,
     "metadata": {},
     "output_type": "execute_result"
    },
    {
     "data": {
      "image/png": "[encoded data removed]",
      "text/plain": [
       "<Figure size 540x540 with 12 Axes>"
      ]
     },
     "metadata": {
      "needs_background": "light"
     },
     "output_type": "display_data"
    }
   ],
   "source": [
    "sns.pairplot(x_tr_mmc)"
   ]
  },
  {
   "cell_type": "code",
   "execution_count": 51,
   "id": "7c1ef7b3",
   "metadata": {},
   "outputs": [
    {
     "data": {
      "text/plain": [
       "'it is a method to scale numeric data/feature in same scale or\\nrange (-1,1 or 0-1)\\n'"
      ]
     },
     "execution_count": 51,
     "metadata": {},
     "output_type": "execute_result"
    }
   ],
   "source": [
    "'''it is a method to scale numeric data/feature in same scale or\n",
    "range (-1,1 or 0-1)\n",
    "'''"
   ]
  },
  {
   "cell_type": "code",
   "execution_count": null,
   "id": "7f06860a",
   "metadata": {},
   "outputs": [],
   "source": []
  }
 ],
 "metadata": {
  "kernelspec": {
   "display_name": "Python 3 (ipykernel)",
   "language": "python",
   "name": "python3"
  },
  "language_info": {
   "codemirror_mode": {
    "name": "ipython",
    "version": 3
   },
   "file_extension": ".py",
   "mimetype": "text/x-python",
   "name": "python",
   "nbconvert_exporter": "python",
   "pygments_lexer": "ipython3",
   "version": "3.9.7"
  }
 },
 "nbformat": 4,
 "nbformat_minor": 5
}
